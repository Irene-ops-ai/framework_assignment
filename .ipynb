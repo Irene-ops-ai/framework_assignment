# Part 1: Data Loading and Basic Exploration
import seaborn as sns
import pandas as pd
import matplotlib.pyplot as plt


# Load iris dataset
df = sns.load_dataset("iris")

# Preview first few rows
print("First 5 rows:")
print(df.head())

# Shape of dataset
print("\nShape (rows, columns):", df.shape)

# Data types
print("\nData types:")
print(df.dtypes)

# Missing values
print("\nMissing values per column:")
print(df.isnull().sum())

# Basic statistics
print("\nDescriptive statistics:")
print(df.describe())

#Part 2: Data Cleaning and Preparation
# Check missing values
print(df.isnull().sum())

# For iris dataset there are no missing values, but let's demonstrate cleaning:
df_clean = df.dropna()  # would remove missing rows if they existed

# Create a new column: petal area (example feature engineering)
df_clean["petal_area"] = df_clean["petal_length"] * df_clean["petal_width"]

# Convert species column to categorical if needed
df_clean["species"] = df_clean["species"].astype("category")

print(df_clean.head())

#Part 3: Data Analysis and Visualization
# 1. Count samples per species
species_counts = df_clean["species"].value_counts()
print("Counts per species:\n", species_counts)

# 2. Visualization: count plot
sns.countplot(x="species", data=df_clean)
plt.title("Number of Samples per Species")
plt.show()

# 3. Distribution of petal length by species
sns.boxplot(x="species", y="petal_length", data=df_clean)
plt.title("Petal Length Distribution by Species")
plt.show()

# 4. Scatterplot of sepal length vs width
sns.scatterplot(x="sepal_length", y="sepal_width", hue="species", data=df_clean)
plt.title("Sepal Length vs Width by Species")
plt.show()

# 5. Correlation heatmap
plt.figure(figsize=(8,6))
sns.heatmap(df_clean.drop(columns="species").corr(), annot=True, cmap="coolwarm")
plt.title("Correlation Heatmap of Features")
plt.show()

